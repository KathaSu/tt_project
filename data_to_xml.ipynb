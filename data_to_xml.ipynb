{
 "cells": [
  {
   "cell_type": "code",
   "execution_count": 7,
   "metadata": {},
   "outputs": [],
   "source": [
    "from xml.etree.ElementTree import Element, SubElement"
   ]
  },
  {
   "cell_type": "code",
   "execution_count": 19,
   "metadata": {},
   "outputs": [],
   "source": [
    "fanfiction_database = Element('fanfiction_database')\n",
    "fanfictions = SubElement(fanfiction_database, 'fanfictions')\n",
    "fanfiction = SubElement(fanfictions, 'fanfiction', id=\"1\")\n",
    "title = SubElement(fanfiction, 'title').text = \"Title\"\n",
    "author = SubElement(fanfiction, 'author').text = \"Author\"\n",
    "age_ratings = SubElement(fanfiction, 'age_rating').text = \"Age Rating\"\n",
    "language = SubElement(fanfiction, 'language').text = \"English\"\n",
    "authortags = SubElement(fanfiction, 'authortags')\n",
    "authortag = SubElement(authortags, 'authortag').text = \"Tag\"\n",
    "characters = SubElement(fanfiction, 'characters')\n",
    "character = SubElement(characters, 'character').text = \"Character\"\n",
    "index_terms = SubElement(fanfiction, 'index_terms')\n",
    "index_term = SubElement(index_terms, 'index_term').text = \"Index Terms\""
   ]
  },
  {
   "cell_type": "code",
   "execution_count": 20,
   "metadata": {},
   "outputs": [],
   "source": [
    "tree = ET.ElementTree(fanfiction_database)\n",
    "tree.write(\"filename.xml\")"
   ]
  },
  {
   "cell_type": "code",
   "execution_count": null,
   "metadata": {},
   "outputs": [],
   "source": []
  }
 ],
 "metadata": {
  "kernelspec": {
   "display_name": "Python 3",
   "language": "python",
   "name": "python3"
  },
  "language_info": {
   "codemirror_mode": {
    "name": "ipython",
    "version": 3
   },
   "file_extension": ".py",
   "mimetype": "text/x-python",
   "name": "python",
   "nbconvert_exporter": "python",
   "pygments_lexer": "ipython3",
   "version": "3.8.3"
  }
 },
 "nbformat": 4,
 "nbformat_minor": 4
}
