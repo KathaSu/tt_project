{
 "cells": [
  {
   "cell_type": "code",
   "execution_count": 481,
   "metadata": {},
   "outputs": [],
   "source": [
    "import sqlite3\n",
    "from sqlite3 import Error\n",
    "\n",
    "# For Linguistics Computation\n",
    "from nltk.corpus import stopwords\n",
    "from nltk.tokenize import word_tokenize\n",
    "from nltk.stem import WordNetLemmatizer\n",
    "\n",
    "import nltk\n",
    "import math\n",
    "import re\n",
    "\n",
    "# Relevant stopwords\n",
    "# import nltk\n",
    "# nltk.download('stopwords')\n",
    "# nltk.download('wordnet')\n",
    "# nltk.download('averaged_perceptron_tagger')"
   ]
  },
  {
   "cell_type": "code",
   "execution_count": 482,
   "metadata": {},
   "outputs": [],
   "source": [
    "def create_connection(db_file):\n",
    "    conn = None\n",
    "    try:\n",
    "        conn = sqlite3.connect(db_file)\n",
    "    except Error as e:\n",
    "        print(e)\n",
    "    return conn"
   ]
  },
  {
   "cell_type": "code",
   "execution_count": 483,
   "metadata": {},
   "outputs": [],
   "source": [
    "def get_fanfiction(conn):\n",
    "    sql_select = \"\"\"SELECT id, tags, characters FROM fanfiction LIMIT 100\"\"\"\n",
    "    cur = conn.cursor()\n",
    "    fanfictions_execute = cur.execute(sql_select)\n",
    "    fanfictions = fanfictions_execute.fetchall()\n",
    "    conn.commit()\n",
    "    return fanfictions"
   ]
  },
  {
   "cell_type": "code",
   "execution_count": 484,
   "metadata": {},
   "outputs": [],
   "source": [
    "def get_text(conn, id):\n",
    "    sql_select = \"\"\"SELECT body FROM fanfiction WHERE id = '{}'\"\"\".format(id)\n",
    "    cur = conn.cursor()\n",
    "    texts_execute = cur.execute(sql_select)\n",
    "    texts = texts_execute.fetchall()\n",
    "    conn.commit()\n",
    "    return texts[0][0]"
   ]
  },
  {
   "cell_type": "code",
   "execution_count": 485,
   "metadata": {},
   "outputs": [],
   "source": [
    "def clean_text(string):\n",
    "    string = re.sub(\"\\n\", \"\", string)\n",
    "    string = re.sub(\"[0-9]\", \" \", string)\n",
    "    string = re.sub(\"\\.\\.\", \" \", string)\n",
    "    string = re.sub(\"\\(.*?\\)\", \" \", string)\n",
    "    string = re.sub(\"[\\*| , |<| - |+]~_\", \" \", string)\n",
    "    string = re.sub(\" [a-z|A-Z] \", \" \", string)\n",
    "    string = re.sub(\"-\", \"\", string)\n",
    "    string = re.sub(\"'\", \"\", string)\n",
    "    string = re.sub(\"/\", \" \", string)\n",
    "    string = re.sub(\"\\|\", \" \", string)\n",
    "    string = re.sub(\"[a-z|A-Z]\\.[a-z|A-Z]\\.\", \" \", string)\n",
    "    string = re.sub(\"[hH][Tt]{1,3}[pP]\", \" \", string)\n",
    "    string = re.sub(\"(\\.)(\\S)\", \"\\g<1> \\g<2>\", string)\n",
    "    string = re.sub(\"\\b[HhAaOoIiEeUuKkSs]{3,}\\b\", \" \", string)\n",
    "        \n",
    "    countnew = 10\n",
    "    for i in range(1, countnew):\n",
    "        string = re.sub(\" \\. \", \" \", string)\n",
    "    for s in range(1, countnew):\n",
    "        string = re.sub(\"  \", \" \", string)\n",
    "    \n",
    "    return string"
   ]
  },
  {
   "cell_type": "code",
   "execution_count": 486,
   "metadata": {},
   "outputs": [],
   "source": [
    "def gen_normtokens(text, characters):\n",
    "    lemma = WordNetLemmatizer()\n",
    "    return_tokens = []\n",
    "    sentences = nltk.sent_tokenize(text)\n",
    "    for sentence in sentences:\n",
    "        sentence_pos = nltk.pos_tag(nltk.word_tokenize(sentence))\n",
    "        for token, pos in sentence_pos:\n",
    "            if \"NN\" in pos:\n",
    "                return_tokens.append(lemma.lemmatize(token.lower(), pos = \"n\"))\n",
    "    tokens_no_characters = list(set(return_tokens) - set(characters))\n",
    "    return tokens_no_characters"
   ]
  },
  {
   "cell_type": "code",
   "execution_count": 487,
   "metadata": {},
   "outputs": [],
   "source": [
    "database = r\"fanfiction.db\"\n",
    "conn = create_connection(database)\n",
    "all_tokens = nltk.FreqDist()\n",
    "dictonary = {}\n",
    "fanfictions = get_fanfiction(conn)"
   ]
  },
  {
   "cell_type": "code",
   "execution_count": 488,
   "metadata": {},
   "outputs": [
    {
     "name": "stdout",
     "output_type": "stream",
     "text": [
      "There are 100 Fanfiction is the database.\n"
     ]
    }
   ],
   "source": [
    "# Number of Fanfictions\n",
    "print(f'There are {len(fanfictions)} Fanfiction is the database.')"
   ]
  },
  {
   "cell_type": "code",
   "execution_count": 489,
   "metadata": {},
   "outputs": [
    {
     "name": "stdout",
     "output_type": "stream",
     "text": [
      "Processing Fanfiction 100/100\r"
     ]
    }
   ],
   "source": [
    "for id, tags, characters in fanfictions:\n",
    "    print(\"Processing Fanfiction {}/{}\".format(id, len(fanfictions)), end='\\r') #\n",
    "    authortags = tags.split(', ')\n",
    "    characters_singletokens = re.split(', | ', characters)\n",
    "    characters = characters.split(', ')\n",
    "    text = get_text(conn, id)\n",
    "    text = clean_text(text)\n",
    "    tokens = gen_normtokens(text, characters_singletokens)\n",
    "    all_tokens.update(tokens)\n",
    "    tokens_freq = nltk.FreqDist()\n",
    "    tokens_freq.update(tokens)\n",
    "    dictonary[id] = tokens_freq"
   ]
  },
  {
   "cell_type": "code",
   "execution_count": 490,
   "metadata": {},
   "outputs": [
    {
     "name": "stdout",
     "output_type": "stream",
     "text": [
      "All Tokens = 124523\n",
      "Most Common Token = eye\n"
     ]
    }
   ],
   "source": [
    "# Length of the Dictionary\n",
    "print(f'All Tokens = {all_tokens.N()}')\n",
    "\n",
    "# Preview of the Dictionary\n",
    "print(f'Most Common Token = {all_tokens.max()}')"
   ]
  },
  {
   "cell_type": "code",
   "execution_count": 491,
   "metadata": {},
   "outputs": [
    {
     "name": "stdout",
     "output_type": "stream",
     "text": [
      "The main terms for the Fanfiction 1: ['bilbo', 'endearing', 'stressor', 'sag', 'twentyeightyearold', 'sheshes', 'pentup', 'delayed', 'abide', 'wandlighting', 'howell', 'teabags', 'sstay', 'patdown', 'fullmoon', 'waning', 'janey', 'howells', 'wouldbeassailant', 'queenie', 'snarling', 'xxxx', 'palpitation', 'meatloaf', 'jerry', 'darlin', 'rolloff', 'weatherbeaten', 'underwriter', 'vexing', 'ssomeone', 'misfortunate', 'toothpick', 'twobedroom', 'offbalance', 'butterknife', 'tinas', 'whitehot', 'tramp', 'scarylooking', 'rainfall', 'painfullooking', 'modernday', 'warbling', 'pseudokindness', 'chancea', 'acidity', 'halfsob', 'eek', 'lipgloss']\n",
      "The main terms for the Fanfiction 2: ['scattered', 'clunk', 'aerodynamics', 'janes', 'papercut', 'spiderweb', 'wham', 'burner', 'hoax', 'committing', 'oar', 'dumbridge', 'coon', '_lane', 'ribbit', 'testimonial', 'umbiti', 'anticoagulant', 'adultery', 'birch', 'amiright', 'vicious', 'aragog', 'speedy', 'ak', 'inquisitor', 'titus', 'dumbles', 'maine', '~zap', 'dowager', 'vthe', 'lina', 'educational', 'vanished', 'mrow', 'avalanche', 'immobilizing', 'spideys', 'papercuts', 'sinistras', 'zap', 'ribbity', 'yeet', 'alina', 'venomous', 'inkwell', 'typo', 'puncture', 'lottery']\n",
      "The main terms for the Fanfiction 3: ['ohhs', 'excallibur', 'ascalon', 'ohm', 'ahhs', 'collective', 'aultimate', 'coursebooks', 'tennyson', 'hogsmead', 'crossover', 'whistling', 'vulture', 'benjamin', 'relaxes', 'tarantula', 'min', 'ickle', 'w', 'capital', 'modern', 'goon', 'wotcher', 'ben', 'countryside', 'questioning', 'misfortune', 'banter', 'vincent', 'gregory', 'harmony', 'disclaimer', 'umm', 'trolley', 'dentist', 'deputy', 'delacour', 'awkwardness', 'daphne', 'departure', 'must', 'error', 'occupant', 'goyle', 'applause', 'headmistress', 'said', 'crabbe', 'lee', 'guardian']\n",
      "The main terms for the Fanfiction 4: ['lucktake', 'reasonsgood', 'urghtroll', 'fleet', 'bbye', 'potterany', 'drownedbut', 'mighta', 'fluffyhe', 'cleverness', 'topmost', 'dearno', 'mortis', 'meringue', 'perenelle', 'trollsyou', 'ronniekins', 'ridgeback', 'recent', 'toanybody', 'dud', 'byebye', 'johnna', 'lotgreat', 'herfilch', 'andoh', 'yerselves', 'shoutin', 'nothin', 'flailing', 'thirdfloor', 'bleaaarghsee', 'sidetable', 'demonlurking', 'nightmarethis', 'dump', 'faceaaaargh', 'chili', 'nitwit', 'festoon', 'friar', 'tights', 'fangll', 'ceasedit', 'agrippathanks', 'fiftytwo', 'screamand', 'cupid', 'firsthalf', 'emetic']\n",
      "The main terms for the Fanfiction 5: ['beah', 'enerfgh', 'wawemot', 'sksksksksk', 'thelionsren', 'hahahaha', 'hallmark', 'huhuhuhu', 'hahahahahahaha', 'gutsy', 'irl', 'vagueness', 'wowowo', 'hahahhaha', 'ugliest', 'module', 'denies', 'skskskskksk', 'temptresslove_', 'smoothtalker', 'un', 'shoujo', 'busier', 'fevit', 'nursemaid', 'billboard', 'allowed', 'nnothing', 'hawwywawwydumkins', 'wowemot', 'manhwas', 'classroomsto', 'buries', 'beckons', 'yey', 'handsomest', 'abodeeveryone', 'ga.', 'sextans', 'mwa', 'cedricthe', 'towe', 'eugh', 'wort', 'fivemeter', 't_t', 'hoity', 'datom', 'klein', 'stammer']\n",
      "The main terms for the Fanfiction 6: ['muggleness', 'youknowyou', 'grandbabies', 'buying', 'poorer', 'illfitting', 'enrichment', 'stratification', 'nourishment', 'rubabs', 'aqua', 'brunt', 'yinz', 'hp+dm', 'ooc', 'hharriet', 'scarab', 'anra', 'greatgrandparents', 'falcon', 'shoebox', 'invasive', 'sneakiness', 'reed', 'fleemonts', 'howdoyoudos', 'refund', 'eloquence', 'specialia', 'atmospheric', 'mooning', 'havechildrenthing', 'tolkienesque', 'klema', 'fallons', 'americaisms', 'zoya', 'conservation', 'baddie', 'bolstrode', 'youknowwhat', 'divot', 'jharkhand', 'aggravation', 'hyper', 'buddhist', 'sycophant', 'clapped', 'pff', 'absorbing']\n",
      "The main terms for the Fanfiction 7: ['adelard', 'alexei', 'maximov', 'discussing', 'buggery', 'muslim', 'crothers', 'unusualness', 'arcus', 'subside', 'frau', 'prohibition', 'contemplating', 'wounding', 'tapped', 'dumber', 'cornfield', 'suction', 'rinse', 'ivanov', 'mesmerizing', 'lovemaking', 'misconception', 'mimosa', 'lbus', 'emain', 'tram', 'godelot', 'stretchedout', 'pleasing', 'fraulein', 'deviate', 'meyers', 'pleasantness', 'cistern', 'selfirony', 'controlling', 'glacier', 'elope', 'cavelike', 'lamentation', 'luises', 'chirping', 'confuse', 'bre', 'carbonneau', 'skillfulness', 'socializing', 'mugglehater', 'intrusive']\n",
      "The main terms for the Fanfiction 8: ['harkness', 'spaceship', 'civilisation', 'bodyparts', 'powell', 'yearold', 'chinny', 'sylvia', 'boogeyman', 'amy', 'hhello', 'wilf', 'timelord', 'jackie', 'ssomebody', 'chiswick', 'tardis', 'amys', 'wilfred', 'geronimo', 'hungarian', 'foxtrott', 'wilfs', 'ianto', 'tarantallegra', 'donna', 'advert', 'rorys', 'lifespan', 'scarecrow', 'rory', 'rictusempra', 'eleventh', 'muddy', 'reminiscing', 'anywhere', 'dazzling', 'pointing', 'traveller', 'pilot', 'breathtaking', 'represent', 'tapdance', 'clearer', 'villager', 'h.', 'tweed', 'tyler', 'granddad', 'tickling']\n",
      "The main terms for the Fanfiction 9: ['sceleratus', 'slopers', 'pulchritudinous', 'represiuli', 'headliner', 'runins', 'sibnele', 'firecrown', 'haider', 'overreach', 'machi', 'alfonso', 'antipersonnel', 'fore', 'ox', 'brujo', 'maravillosa', 'quelle', 'perfectionism', 'espanol', 'deficit', 'runespoor', 'eatersll', 'poultice', 'exhort', 'plasma', 'devras', 'thirdsd', 'megans', 'manservant', 'saavedra', 'conspirator', 'facsimile', 'cordon', 'incredible', 'moor', 'slyth', 'fourthyear', 'necesito', 'rootless', 'sobre', 'reworking', 'assumuiez', 'z', 'physicals', 'alecto', 'grootslangs', 'redundancy', 'linguist', 'excellence']\n",
      "The main terms for the Fanfiction 10: ['delas', 'dowstairs', 'albisa', 'xl', 'motorbike', 'hippy', 'dela', 'hayley', 'bloomin', 'paul', 'sobbed', 'bristol', 'liam', 'wrapping', 'nesting', 'hooligan', 'lamppost', 'concrete', 'stuffed', 'kicking', 'bony', 'television', 'traffic', 'pepper', 'siri', 'understatement', 'theme', 'dursley', 'young', 'neighbour', 'mar', 'violet', 'privet', 'doorstep', 'roaring', 'salt', 'bundle', 'sniff', 'hagrids', 'toddler', 'firework', 'bacon', 'spectacle', 'cloth', '*', 'fly', 'dursleys', 'daylight', 'er', 'enchantment']\n",
      "The main terms for the Fanfiction 11: ['anda', 'ajha', 'lagne', 'kulta', 'lagepachi', 'pakrau', 'lat', 'huncha', 'tarif', 'banaye', 'hidyo', 'tira', 'chaleko', 'uff', 'gulabi', 'garda', 'dhakleyo', 'kakchya', 'aagar', 'mdt', 'chamatdaibhane', 'kammar', 'delash', 'saitani', 'ghas', 'bahira', 'tero', 'rakhera', 'jhikna', 'cwack', 'jumka', 'pokhe', 'herna', 'catabury', 'bhaye', 'yaad', 'hundai', 'kii', 'raat', 'gairathe', 'khasyo', 'heryau', 'timi', 'lekhe', 'ddc', 'eso', 'maro', 'dhyabatz', 'karengi', 'sungari']\n",
      "The main terms for the Fanfiction 12: ['bilbo', 'endearing', 'stressor', 'sag', 'twentyeightyearold', 'sheshes', 'pentup', 'delayed', 'abide', 'wandlighting', 'howell', 'teabags', 'sstay', 'patdown', 'fullmoon', 'waning', 'janey', 'howells', 'wouldbeassailant', 'queenie', 'snarling', 'xxxx', 'palpitation', 'meatloaf', 'jerry', 'darlin', 'rolloff', 'weatherbeaten', 'underwriter', 'vexing', 'ssomeone', 'misfortunate', 'toothpick', 'twobedroom', 'offbalance', 'butterknife', 'tinas', 'whitehot', 'tramp', 'scarylooking', 'rainfall', 'painfullooking', 'modernday', 'warbling', 'pseudokindness', 'chancea', 'acidity', 'halfsob', 'eek', 'lipgloss']\n",
      "The main terms for the Fanfiction 13: ['scattered', 'clunk', 'aerodynamics', 'janes', 'papercut', 'spiderweb', 'wham', 'burner', 'hoax', 'committing', 'oar', 'dumbridge', 'coon', '_lane', 'ribbit', 'testimonial', 'umbiti', 'anticoagulant', 'adultery', 'birch', 'amiright', 'vicious', 'aragog', 'speedy', 'ak', 'inquisitor', 'titus', 'dumbles', 'maine', '~zap', 'dowager', 'vthe', 'lina', 'educational', 'vanished', 'mrow', 'avalanche', 'immobilizing', 'spideys', 'papercuts', 'sinistras', 'zap', 'ribbity', 'yeet', 'alina', 'venomous', 'inkwell', 'typo', 'puncture', 'lottery']\n",
      "The main terms for the Fanfiction 14: ['ohhs', 'excallibur', 'ascalon', 'ohm', 'ahhs', 'collective', 'aultimate', 'coursebooks', 'tennyson', 'hogsmead', 'crossover', 'whistling', 'vulture', 'benjamin', 'relaxes', 'tarantula', 'min', 'ickle', 'w', 'capital', 'modern', 'goon', 'wotcher', 'ben', 'countryside', 'questioning', 'misfortune', 'banter', 'vincent', 'gregory', 'harmony', 'disclaimer', 'umm', 'trolley', 'dentist', 'deputy', 'delacour', 'awkwardness', 'daphne', 'departure', 'must', 'error', 'occupant', 'goyle', 'applause', 'headmistress', 'said', 'crabbe', 'lee', 'guardian']\n",
      "The main terms for the Fanfiction 15: ['lucktake', 'reasonsgood', 'urghtroll', 'fleet', 'bbye', 'potterany', 'drownedbut', 'mighta', 'fluffyhe', 'cleverness', 'topmost', 'dearno', 'mortis', 'meringue', 'perenelle', 'trollsyou', 'ronniekins', 'ridgeback', 'recent', 'toanybody', 'dud', 'byebye', 'johnna', 'lotgreat', 'herfilch', 'andoh', 'yerselves', 'shoutin', 'nothin', 'flailing', 'thirdfloor', 'bleaaarghsee', 'sidetable', 'demonlurking', 'nightmarethis', 'dump', 'faceaaaargh', 'chili', 'nitwit', 'festoon', 'friar', 'tights', 'fangll', 'ceasedit', 'agrippathanks', 'fiftytwo', 'screamand', 'cupid', 'firsthalf', 'emetic']\n",
      "The main terms for the Fanfiction 16: ['beah', 'enerfgh', 'wawemot', 'sksksksksk', 'thelionsren', 'hahahaha', 'hallmark', 'huhuhuhu', 'hahahahahahaha', 'gutsy', 'irl', 'vagueness', 'wowowo', 'hahahhaha', 'ugliest', 'module', 'denies', 'skskskskksk', 'temptresslove_', 'smoothtalker', 'un', 'shoujo', 'busier', 'fevit', 'nursemaid', 'billboard', 'allowed', 'nnothing', 'hawwywawwydumkins', 'wowemot', 'manhwas', 'classroomsto', 'buries', 'beckons', 'yey', 'handsomest', 'abodeeveryone', 'ga.', 'sextans', 'mwa', 'cedricthe', 'towe', 'eugh', 'wort', 'fivemeter', 't_t', 'hoity', 'datom', 'klein', 'stammer']\n",
      "The main terms for the Fanfiction 17: ['muggleness', 'youknowyou', 'grandbabies', 'buying', 'poorer', 'illfitting', 'enrichment', 'stratification', 'nourishment', 'rubabs', 'aqua', 'brunt', 'yinz', 'hp+dm', 'ooc', 'hharriet', 'scarab', 'anra', 'greatgrandparents', 'falcon', 'shoebox', 'invasive', 'sneakiness', 'reed', 'fleemonts', 'howdoyoudos', 'refund', 'eloquence', 'specialia', 'atmospheric', 'mooning', 'havechildrenthing', 'tolkienesque', 'klema', 'fallons', 'americaisms', 'zoya', 'conservation', 'baddie', 'bolstrode', 'youknowwhat', 'divot', 'jharkhand', 'aggravation', 'hyper', 'buddhist', 'sycophant', 'clapped', 'pff', 'absorbing']\n",
      "The main terms for the Fanfiction 18: ['adelard', 'alexei', 'maximov', 'discussing', 'buggery', 'muslim', 'crothers', 'unusualness', 'arcus', 'subside', 'frau', 'prohibition', 'contemplating', 'wounding', 'tapped', 'dumber', 'cornfield', 'suction', 'rinse', 'ivanov', 'mesmerizing', 'lovemaking', 'misconception', 'mimosa', 'lbus', 'emain', 'tram', 'godelot', 'stretchedout', 'pleasing', 'fraulein', 'deviate', 'meyers', 'pleasantness', 'cistern', 'selfirony', 'controlling', 'glacier', 'elope', 'cavelike', 'lamentation', 'luises', 'chirping', 'confuse', 'bre', 'carbonneau', 'skillfulness', 'socializing', 'mugglehater', 'intrusive']\n",
      "The main terms for the Fanfiction 19: ['harkness', 'spaceship', 'civilisation', 'bodyparts', 'powell', 'yearold', 'chinny', 'sylvia', 'boogeyman', 'amy', 'hhello', 'wilf', 'timelord', 'jackie', 'ssomebody', 'chiswick', 'tardis', 'amys', 'wilfred', 'geronimo', 'hungarian', 'foxtrott', 'wilfs', 'ianto', 'tarantallegra', 'donna', 'advert', 'rorys', 'lifespan', 'scarecrow', 'rory', 'rictusempra', 'eleventh', 'muddy', 'reminiscing', 'anywhere', 'dazzling', 'pointing', 'traveller', 'pilot', 'breathtaking', 'represent', 'tapdance', 'clearer', 'villager', 'h.', 'tweed', 'tyler', 'granddad', 'tickling']\n",
      "The main terms for the Fanfiction 20: ['sceleratus', 'slopers', 'pulchritudinous', 'represiuli', 'headliner', 'runins', 'sibnele', 'firecrown', 'haider', 'overreach', 'machi', 'alfonso', 'antipersonnel', 'fore', 'ox', 'brujo', 'maravillosa', 'quelle', 'perfectionism', 'espanol', 'deficit', 'runespoor', 'eatersll', 'poultice', 'exhort', 'plasma', 'devras', 'thirdsd', 'megans', 'manservant', 'saavedra', 'conspirator', 'facsimile', 'cordon', 'incredible', 'moor', 'slyth', 'fourthyear', 'necesito', 'rootless', 'sobre', 'reworking', 'assumuiez', 'z', 'physicals', 'alecto', 'grootslangs', 'redundancy', 'linguist', 'excellence']\n",
      "The main terms for the Fanfiction 21: ['delas', 'dowstairs', 'albisa', 'xl', 'motorbike', 'hippy', 'dela', 'hayley', 'bloomin', 'paul', 'sobbed', 'bristol', 'liam', 'wrapping', 'nesting', 'hooligan', 'lamppost', 'concrete', 'stuffed', 'kicking', 'bony', 'television', 'traffic', 'pepper', 'siri', 'understatement', 'theme', 'dursley', 'young', 'neighbour', 'mar', 'violet', 'privet', 'doorstep', 'roaring', 'salt', 'bundle', 'sniff', 'hagrids', 'toddler', 'firework', 'bacon', 'spectacle', 'cloth', '*', 'fly', 'dursleys', 'daylight', 'er', 'enchantment']\n",
      "The main terms for the Fanfiction 22: ['anda', 'ajha', 'lagne', 'kulta', 'lagepachi', 'pakrau', 'lat', 'huncha', 'tarif', 'banaye', 'hidyo', 'tira', 'chaleko', 'uff', 'gulabi', 'garda', 'dhakleyo', 'kakchya', 'aagar', 'mdt', 'chamatdaibhane', 'kammar', 'delash', 'saitani', 'ghas', 'bahira', 'tero', 'rakhera', 'jhikna', 'cwack', 'jumka', 'pokhe', 'herna', 'catabury', 'bhaye', 'yaad', 'hundai', 'kii', 'raat', 'gairathe', 'khasyo', 'heryau', 'timi', 'lekhe', 'ddc', 'eso', 'maro', 'dhyabatz', 'karengi', 'sungari']\n",
      "The main terms for the Fanfiction 23: ['caplan', 'andre', 'castelobruxo', 'badeea', 'alves', 'tulip', 'lobosca', 'tuttle', 'kim', 'verucca', 'khanna', 'egwu', 'liz', 'karasu', 'chiara', 'alanza', 'talbott', 'winger', 'ariels', 'haywood', 'jae', 'merula', 'ismelda', 'askander', 'beatrice', 'ali', 'diego', 'rakepick', 'ariel', 'snyde', 'applaud', 'barnaby', 'rowan', 'quirell', 'murk', 'smirking', 'jacob', 'penny', 'lizard', 'schooling', 'williams', 'arabic', 'replying', 'brazil', 'heck', 'woah', 'ben', 'stall', 'copper', 'knockturn']\n",
      "The main terms for the Fanfiction 24: ['defend', 'considers', 'existent', 'tiramisu', 'inform', 'infertility', 'baster', 'notjames', 'combinate', 'pratt', 'halfbrother', 'ministery', 'mourn', 'excerption', 'parenthood', 'responsibly', 'utters', 'stepfather', 'pompfey', 'idee', 'jame', 'regeneration', 'dished', 'formalization', 'pare', 'poverty', 'hogwart', 'declare', 'spend', 'declares', 'greatgrandson', 'levitate', ',i', 'afterward', 'insulting', 'flirting', 'fifthyear', 'approve', 'compare', 'vanishes', 'dreamy', 'eileen', 'rebuttal', 'stirring', 'traveler', 'courtroom', 'actor', 'announces', 'embarrassing', 'anchor']\n",
      "The main terms for the Fanfiction 25: ['fatherand', 'positionalways', 'graham', 'macnair', 'imperio', 'legilimency', 'yaxley', 'intrusion', 'recall', 'raid', 'greyback', 'occupant', 'childrens', 'rope', 'deeply', 'cool', 'spread', 'affection', 'dare', 'werewolf', 'manor', 'clock', 'embarrassment', 'show', 'scent', 'visit', 'wife', 'company', 'garden', 'flash', 'hed', 'draco', 'drink', 'go', 'bloody', 'mark', 'husband', 'tonight', 'malfoy', 'lord', 'ah', 'bedroom', 'laughter', 'pain', 'teeth', 'glance', 'muggles', 'nose', 'robe', 'leg']\n",
      "The main terms for the Fanfiction 26: ['peekaboo', 'partypoopers', 'poohey', 'steampunk', 'bubo', 'narrowed', 'snickering', 'dirtylook', 'plumper', 'varsity', 'rascal', 'coolwarmth', 'loverboy', 'headtotoe', 'futility', 'lightworks', 'ery', 'convertible', 'anklesocks', 'convex', 'stebbins', 'pollen', 'decibel', 'appealing', 'pearlescent', 'quillnibs', 'vacationsworth', 'bloodpurist', 'puppyeyes', 'herbivicus', 'bummer', 'mouseys', 'kite', 'freeperiod', 'hogwartss', 'tansy', 'enchantress', 'dogbreath', 'guileless', 'offchance', 'bandaid', 'wellwishes', 'hoy', 'bel', 'doomandgloom', 'popsicle', 'glovedhands', 'epoximise', 'booming', 'burgeoning']\n",
      "The main terms for the Fanfiction 27: ['harryrosegreen', 'morrigan', 'petty', 'wessex', 'excitedlittlegirl', 'weirdo', 'cameron', 'reverent', 'sensitivity', 'dazzle_', 'adaline', 'luv', 'tuition', 'wix', 'straightup', 'inertia', 'concussion', 'nonquidditch', 'subplots', 'girlwholived', 'personification', 'goop', 'et', 'ssure', 'furnunculus', 'rightness', 'boi', 'dexterity', 'schoolchildren', 'grouching', 'mimsey', 'futharks', 'wastebox', 'swimmer', 'deescalation', 'celtic', 'squishy', 'invigoration', 'selfawareness', 'famine', 'algernon', 'officiallooking', 'ambient', 'thereve', 'blinked', 'asap', 'versatile', 'aliveness', 'cuteness', 'sustains']\n",
      "The main terms for the Fanfiction 28: ['aloofness', 'rosiness', 'fermenting', 'hyperactive', 'dixon', 'steelrimmed', 'declaring', 'binge', 'iyou', 'theif', 'tinkle', 'ther', 'candelabrum', 'snowwhite', 'alder', 'clinkclank', 'goto', 'degc', 'gatecrasher', 'burnttoastthatwaspartiallyonfireforafewseconds', 'il', 'brainstorming', 'wintry', 'briar', 'oder', 'ficlet', 'impossibly', 'spiralling', 'comparable', 'derealization', 'igniting', 'peaceful', 'depersonalization', 'sledgehammer', 'felinelike', 'macaron', 'midsummer', 'aftertaste', 'espresso', 'macaroon', 'interruptin', 'goth', 'predict', 'tightrope', 'metronome', 'taka', 'mocha', 'precipice', 'shaving', 'albino']\n",
      "The main terms for the Fanfiction 29: ['erik', 'twohundredplus', 'ogsmeade', 'hippo', 'gclid=cjwkcaiav', 'allisons', 'aegeus', 'githyankis', 'overprotective', 'meenlaragh', 'natalia', 'blossomed', 'cleric', 'henson', 'koot', 'professorintraining', 'pepperoni', 'lumpy', 'dentistdaughter', 'goldfish', 'elderberry', 'shyer', 'bugeyed', 'isaididshaggedcoletteintherestrictedsectionforahalfhour', 'nurseintraining', 'sentinel', 'segue', 'tenterhook', 'fin', 'twoseater', 'formerteachers', 'selfsufficient', 'bib', 'kobolds', 'zooming', 'orville', 'fuzz', 'formerslytherin', 'roiling', 'metanoia', 'airport', 'armloads', 'smalltalk', 'schmo', 'pronouncement', 'shaklebolt', 'gerbera', 'getting', 'dowehaveaproblem', 'highfives']\n",
      "The main terms for the Fanfiction 30: ['switching', 'heyyyy', 'tenbob', 'clavicle', 'pocketwatch', 'superhuman', 'honeybuns', 'motherd', 'evansll', 'teeny', 'pullover', 'matte', 'oohs', 'reeboks', 'glowingmarauders', 'mcgoogoo', 'musicless', 'bae', 'laguage', 'homesick', 'seventyone', 'curler', 'sleekeazy', 'bowie', 'thrives', 'introductory', 'capricornus', 'harrison', 'pam', 'buboter', 'annemarie', 'wattpad', 'mugglelover', 'softening', 'tufty', 'isthereanywayicanswitchtoslytherin', 'frickin', 'braveness', 'figers', 'shocker', 'prankmaster', 'lament', 'jamesey', 'sgt', 'astrology', 'sleek', 'encore', 'replayings', 'radiusll', 'didja']\n",
      "The main terms for the Fanfiction 31: ['premade', 'rejuvenation', 'vomiting', 'venting', 'mainland', 'tremblay', 'tenancy', 'rehearsal', 'measles', 'janealpha', 'seine', 'decontamination', 'shetland', 'proust', 'weasleygranger', 'asexuality', 'ensconce', 'getaway', 'boywholivedagain', 'antisickness', 'bur', 'dispensation', 'fazier', 'outreach', 'adamant', 'secondment', 'exaggerating', 'supermarket', 'snarry', 'pollution', 'tester', 'statuette', 'defeater', 'budapest', 'revitalization', 'fizz', 'ender', 'sawflights', 'spattergoit', 'demitrius', 'coordinate', 'sangria', 'blocking', 'reciprocate', 'impartiality', 'shallowness', 'denniss', 'sylvester', 'travelsickness', 'ritz']\n",
      "The main terms for the Fanfiction 32: ['punchline', 'selfie', 'threepack', 'scramble', 'youtube', 'bmw', 'swingset', 'halfdead', 'starbucks', 'uber', 'dimmed', 'mischiefing', 'tenminute', 'damsel', 'engaged', 'primrose', 'prim', 'waver', 'childish', 'video', 'enigma', 'compilation', 'baiting', 'burrito', 'tsk', 'terence', 'carton', 'freddie', 'absurdity', 'spose', 'surprising', 'cinnamon', 'cackle', 'immature', 'mighty', 'humour', 'intimate', 'sliver', 'flurry', 'charade', 'truck', 'mirth', 'headlight', 'celebrity', 'linger', 'thatd', 'prankster', 'channel', 'freds', 'surname']\n",
      "The main terms for the Fanfiction 33: ['froth', 'jalapeno', 'lexi', 'medihealer', 'jansen', 'norman', 'filet', 'squeezed', 'luciana', 'nimb', 'titbit', 'dollhouse', 'purchasing', 'lucianas', 'consisting', 'joyed', 'mignon', 'sauciers', 'copenhagen', 'bumping', 'transpire', 'ansgar', 'cappuccino', 'alight', 'proving', 'bruun', 'recuperation', 'agard', 'aquamarine', 'petulance', 'alma', 'flipflops', 'robby', 'o.', 'wilkinson', 'solv', 'industry', 'minuet', 'selfcheckout', 'mindscape', 'suffuse', 'wonderment', 'frederik', 'fizzy', 'midaugust', 'mammoth', 'ooooooooooooooo', 'milkshake', 'hookfangs', 'frederiks']\n",
      "The main terms for the Fanfiction 34: ['harden', 'disloyalty', 'wolfish', 'wouldbeliberator', 'overtop', 'relentlessly', 'wholly', 'pinkish', 'jetblack', 'chipped', 'fireseeds', 'ides', 'nameless', 'congratulatory', 'noseit', 'stonecold', 'guiltwracked', 'milord', 'locked', 'pompey', 'peering', 'prewitt', 'victorious', 'midthirties', 'ppotters', 'imposition', 'surveillance', 'punishable', 'precariousness', 'pulsate', 'dashings', 'brutus', 'coarser', 'fathom', 'halffull', 'atom', 'jumpiness', 'trout', 'selfishness', 'wilt', 'ordinariness', 'misheard', 'reedy', 'sniveling', 'leach', 'rescuer', 'quietness', 'fireseed', 'bartemiuss', 'ollies']\n",
      "The main terms for the Fanfiction 35: ['bilbo', 'endearing', 'stressor', 'sag', 'twentyeightyearold', 'sheshes', 'pentup', 'delayed', 'abide', 'wandlighting', 'howell', 'teabags', 'sstay', 'patdown', 'fullmoon', 'waning', 'janey', 'howells', 'wouldbeassailant', 'queenie', 'snarling', 'xxxx', 'palpitation', 'meatloaf', 'jerry', 'darlin', 'rolloff', 'weatherbeaten', 'underwriter', 'vexing', 'ssomeone', 'misfortunate', 'toothpick', 'twobedroom', 'offbalance', 'butterknife', 'tinas', 'whitehot', 'tramp', 'scarylooking', 'rainfall', 'painfullooking', 'modernday', 'warbling', 'pseudokindness', 'chancea', 'acidity', 'halfsob', 'eek', 'lipgloss']\n",
      "The main terms for the Fanfiction 36: ['mcburney', 'beheading', 'unwise', 'diabetes', 'ell', 'wolburrys', 'unforgiveables', 'elliotts', 'wolburry', 'occult', 'hypnotizing', 'partridge', 'dietrich', 'leonora', 'nomen', 'elliott', 'maxim', 'lingers', 'folding', 'dynasty', 'skepticism', 'counting', 'bumpy', 'longs', 'modesty', 'stale', 'mankind', 'macabre', 'narrator', 'creativity', 'guillotine', 'deadliest', 'oyster', 'harper', 'inhibition', 'ado', 'avoids', 'pronunciation', 'controversy', 'complexity', 'terrific', 'marvolo', 'emptiness', 'becomes', 'betray', 'lure', 'quip', 'impulse', 'dippet', 'updo']\n",
      "The main terms for the Fanfiction 37: ['dismal', 'samuel', 'onstage', 'cloaking', 'pspspspsps', 'gunslinger', 'steroid', 'chomp', 'yoyo', 'hedrich', 'shawn', 'guiding', 'twentyeighth', 'idio', 'tino', 'housetroll', 'pee', 'greatgreatgreat', 'pesternomi', 'symbolism', 'unicycle', 'ensue', 'transformatio', 'absolutely', 'leukemia', 'capiche', 'onetwothree', 'claybornes', 'exclaims', 'shouldnta', 'awfelts', 'sprinkling', 'ventura', 'alabama', 'boothe', 'tch', 'mandragora', 'rowing', 'vale', 'pi', 'emendo', 'cushioning', 'evara', 'feller', 'firefighter', 'showtime', 'littleaways', 'hairclip', 'todd', 'rehtom']\n",
      "The main terms for the Fanfiction 38: ['gawker', 'reproachful', 'quimby', 'clamour', 'whydo', 'daresay', 'misdemeanour', 'crockett', 'pleasehes', 'hollower', 'linenrobe', 'imperfect', 'rosebush', 'relish', 'saidwell', 'rigidness', 'robinson', 'awry', 'quarrelling', 'mossy', 'eunice', 'chisel', 'youalways', 'hornby', 'irreality', 'corry', 'flinders', 'toxin', 'inscrutable', 'rhetorical', 'wor', 'alland', 'dogowner', 'onlokers', 'merely', 'gladly', 'rollover', 'maskless', 'lankiness', 'osier', 'unmoving', 'uncorking', 'ari', 'sculptor', 'offender', 'positioning', 'abbreviation', 'nevertheless', 'dangerwho', 'vulnera']\n"
     ]
    },
    {
     "name": "stdout",
     "output_type": "stream",
     "text": [
      "The main terms for the Fanfiction 39: ['blog', 'invito', 'welcomingly', 'patermal', 'septimus', 'enamel', 'graviditate', 'parseltounge', 'parentis', 'governers', 'lyrs', 'resides', 'torturing', 'relieving', 'pointedness', 'depop', 'vowing', 'greyclaw', 'lyra', 'sandcastles', 'username', 'placenta', 'prepared', 'drownings', 'hailey', 'painrelieving', 'malfoyweasley', 'memorias', 'parselmagic', 'labour', 'sell', 'adjoining', 'honourable', 'matrimonium', 'uuncle', 'unharmed', 'reponere', 'haileys', 'adopted', 'expectant', 'aapparation', 'pmakepeace', 'daugther', 'hidam', 'abortion', 'screenplay', 'creative', 'exfriends', 'invincible', 'grandfathter']\n",
      "The main terms for the Fanfiction 40: ['virgin', 'ccf', 'sahara', 'confide', 'app', 'meatball', 'tebe', 'coldest', 'sstop', 'ivanovich', 'ia', 'derry', 'nikolai', 'breathy', 'consiglieres', 'mafia', 'ga_submit_new=', 'bunnelbby', 'zambini', 'uum', 'suffers', 'bulkas', 'gauthier', 'maf', 'tupperware', 'homophobe', 'dobroe', 'ravenette', 'ravenettes', '^^', 'beetroot', 'consigliere', 'co.', 'aacf', 'stopper', 'bulka', 'condiment', 'underboss', 'griaznoe', 'welp', 'deodorant', 'ggotta', 'detrimental', 'utro', 'doveriala', 'scallop', 'sheesh', 'krasnoe', 'cheque', 'theirselves']\n",
      "The main terms for the Fanfiction 41: ['hmiome', 'scaffolding', 'hargrids', 'desicion', 'supervison', 'narrow', 'shoelace', 'rowling', 'k', 'snakelike', 'shrugging', 'j.', 'nagini', 'gaunt', 'trance', 'aftermath', 'yule', 'godrics', 'serpent', 'expelliarmus', 'gratitude', 'pupil', 'plea', 'assistance', 'surge', 'fighting', 'spectacle', 'roar', 'grateful', 'preparation', 'exhaustion', 'dementor', 'trio', 'terror', 'compartment', 'blond', 'mudblood', 'narcissa', 'voldemorts', 'ii', 'tall', 'charge', 'rage', 'trial', 'dementors', 'hermiones', 'character', 'grief', 'proud', 'hint']\n",
      "The main terms for the Fanfiction 42: ['bisexual', 'nonce', 'apologising', 'gayer', 'hinata', 'nishinoya', 'oikawa', 'ofc', 'wdym', 'kenna', 'haikyuu', 'kenma', 'kageyama', 'bcos', 'kiyoko', 'anime', 'bi', 'volleyball', 'dickhead', 'trigonometry', 'gamer', 'ahhh', 'rn', 'gn', 'ur', 'thx', 'idk', 'gr', 'nerd', 'pls', 'genetics', 'cutie', 'why', 'tiny', 'co', 'min', 'trans', 'dude', 'haha', 'r', 'math', 'antler', 'whyd', 'suck', 'ahh', '~', 'kinda', 'ye', 'born', 'gay']\n",
      "The main terms for the Fanfiction 43: ['spence', 'freshman', 'campus', 'precinct', 'hollywood', 'coroner', 'behavioral', 'hotchner', 'jurisdicions', 'spencer', 'csis', 'nyu', 'fbi', 'prentiss', 'maeves', 'unsub', 'bau', 'phd', 'prevents', 'boarder', 'kismet', 'maeve', 'sladkaya', 'rossi', 'profiler', 'hotch', 'grizzly', 'vega', 'latenineties', 'bury', 'reid', 'contraception', 'fling', 'gamut', 'dna', 'veshch', 'neared', 'casino', 'garcia', 'mindhunters', 'jj', 'callahan', 'geneticist', 'clicker', 'antemortem', 'suv', 'vitriol', 'copycat', 'dolohovs', 'jurisdiction']\n",
      "The main terms for the Fanfiction 44: ['impala', 'hpspn', 'tend', 'undress', 'stepmom', 'coparent', 'sightseeing', 'pitter', 'biography', 'totalis', 'boston', 'booze', 'feeler', 'snuff', 'pageboy', 'cheat', 'spnhp', 'lub', 'incantatum', 'munchkin', 'lucifer', 'lilting', 'nephilim', 'winchester', 'chlorine', 'contracting', 'graceless', 'soaring', 'wizengamont', 'manpower', 'skype', 'memorizing', 'learner', 'piggy', 'lawrence', 'critic', 'glinda', 'handing', 'huge', 'mindhealer', 'gank', 'vigilant', 'caseload', 'pacific', 'archangel', 'malok', 'tankini', 'superpower', 'specter', 'dishwasher']\n",
      "The main terms for the Fanfiction 45: ['trespasser', '\\\\i', 'vagabond', 'ached', 'madraco', 'brawler', 'submissiveness', 'scabior', 'retire', 'widower', 'skiing', 'brooke', 'hangleton', 'nineteenyearold', 'freshwater', 'heartshaped', 'mourner', 'weak', 'unraveling', 'stressful', 'aphrodite', 'agonizing', 'reallife', 'hart', 'ave', 'cable', 'prettier', 'heartache', 'gypsy', 'viewing', 'betterment', 'charlotte', 'begs', 'maria', 'cleavage', 'bind', 'squirm', 'exgirlfriend', 'travesty', 'causing', 'grid', '>', 'sweatshirt', 'coma', 'goyles', 'hallucination', 'italic', 'whiplash', 'inhabitant', 'faucet']\n",
      "The main terms for the Fanfiction 46: ['longerthen', 'surprisedit', 'knowid', 'essayand', 'divinationi', 'arose', 'woahslow', 'toffeehe', 'lolly', 'couldit', 'headthe', 'ohyeah', 'sobhow', 'consequenceswithout', 'butoh', 'thingthe', 'easythis', 'watchpost', 'nonope', 'pottershe', 'basiliskbut', 'conversationit', 'perfectlythen', 'weekswhy', 'beganthis', 'competitionand', 'howeverhe', 'friendhe', 'campground', 'morningall', 'finedont', 'relaxshe', 'anywayshe', 'yetron', 'fineit', 'itthey', 'answerbut', 'furyshe', 'harryhis', 'cryingthe', 'thisi', 'timeapparently', 'okayyou', 'thereyou', 'overthey', 'overreaction', 'hearingsurely', 'hermionelet', 'nonoi', 'wordshe']\n",
      "The main terms for the Fanfiction 47: ['awning', 'consummation', 'goldandpurple', 'odalisque', 'unconciousness', 'starshaped', 'habib', 'aldjinn', 'illict', 'sarabis', 'sarabi', 'aureate', 'lovehate', 'shafiq', 'misting', 'unleashedsaturday', 'jubilant', 'aureateandviolet', 'ummi', 'concluding', 'mating', 'tunic', 'faithful', 'hertiage', 'albi', 'djinn', 'shedjinn', 'allure', 'jubilation', 'renewal', 'frequency', 'forthwith', 'fairylights', 'nuptials', 'supernova', 'pauper', 'soninlaw', 'consort', 'observe', 'officiant', 'perverse', 'elopement', 'prestige', 'impress', 'contingent', 'cufflink', 'symbolic', 'usher', 'newborn', 'splitsecond']\n",
      "The main terms for the Fanfiction 48: ['manicure', 'sockless', 'everyzing', 'lateir', 'remembair', 'punctuation', 'rosy', 'monogamy', 'minty', 'whipping', 'savvy', 'evanna', 'demo', 'hone', 'striding', 'overachievement', 'arem', 'xiii', 'intercourse', 'venus', 'wela', 'submissive', 'lefebvre', 'gastronomy', 'yellowclad', 'zzat', 'soundless', 'zose', 'tantalizing', 'ello', 'regalia', 'overtaking', 'bbad', 'seestair', 'wandwielding', 'shortness', 'radiate', 'rtnwriter', 'leetle', 'anothergirlfriend', 'stuttering', 'meepy', 'ballgag', 'walden', 'militia', 'wwill', 'ayes', 'bblood', 'schemer', 'reconcile']\n",
      "The main terms for the Fanfiction 49: [',oh', ',and', ',harry', 'refreshing', 'aj', 'marvelling', ',hey', 'metarmphmagus', ',me', ',we', ',metamorphmagus', ',yeah', ',hogwarts', 'bittersweetness', 'grant', 'praneeth', 'vic', ',he', ',beaters', ',okay', 'seekerreflexes', 'chapmanscott', ',no', ',makes', ',ha', ',kieron', ',do', 'kierons', 'kieron', ',sorry', ',it', 'anatomy', 'pranking', 'hustle', 'digestive', 'hugo', 'minnie', 'mayhem', ',i', 'brighton', 'olivanders', 'bowtruckles', 'bouncing', 'carton', 'childlike', 'shenanigan', 'victoire', 'secretary', 'victoires', 'syllabus']\n",
      "The main terms for the Fanfiction 50: ['goldilocks', 'pucker', 'narissa', 'girlfr', 'limo', 'yeppers', 'zip', 'lasting', 'legging', 'double', 'ki', 'congrats', 'spicy', 'begging', 'hop', 'decide', 'kedavra', 'y', 'pov', 'n', 'pancake', 'avada', 'piercing', 'alohomora', 'slam', 'halfway', 'platinum', 'pajama', 'your', 'mom', 'blaise', 'join', 'suitcase', 'chat', 'yep', 'princess', 'said', 'gulp', 'ugh', 'pansy', 'bye', 'enjoy', 'riddle', 'pull', 'ran', 'mudblood', 'goodnight', 'sorting', 'narcissa', 'beautiful']\n",
      "The main terms for the Fanfiction 51: ['quaffles', 'heady', 'scoring', 'secondyear', 'hairband', 'vampirism', 'ranking', 'native', 'moldavia', 'cocaptain', 'raining', 'fortuna', 'mabel', 'constancy', 'inhumane', 'ceremonyromilda', 'lola', 'ass', 'moldova', 'lexus', 'firebolts', 'colins', 'creevy', 'scrimmage', 'flirting', 'mona', 'lewd', 'angelinas', 'shooting', 'ok.', 'penelope', 'teammate', 'cleansweeps', 'five', 'overcast', 'holyhead', 'misbehavior', 'uhhuh', 'seam', 'insist', 'inexperience', 'together', 'royalty', 'major', 'freddie', 'spectator', 'bursting', 'handmedowns', 'bookbag', 'jersey']\n",
      "The main terms for the Fanfiction 52: ['harrywho', 'cicerous', 'ful', 'hurrying', 'blockage', 'margaret', 'mungo', 'crane', 'twoman', 'merrywill', 'deter', 'override', 'epidemic', 'lovey', 'pyramid', 'external', 'randall', 'helix', 'fruitless', 'jimmy', 'weh', 'thisooohh', 'screening', 'catriella', 'profound', 'lorren', 'eckhart', 'annex', 'mixer', 'affarate', 'g.', 'freaking', 'gorn', 'covent', 'paintwork', 'shithole', 'merryfold', 'coursebecause', 'impulsiveness', 'eurydice', 'paperworkasked', 'wrecked', 'anubis', 'merryfolds', 'confringos', 'linkage', 'neutralisation', 'julianne', 'leak', 'dempsey']\n",
      "The main terms for the Fanfiction 53: ['hedonist', 'dimple', 'azk', 'unkindness', 'goldmine', 'cutthroat', 'revelling', 'hellfire', 'prevails', 'scoots', 'gasoline', 'perchance', 'eileens', 'emu', 'devestatingly', 'gnaws', 'protrude', 'allergy', 'accioed', 'cockney', 'malfoi', 'grandest', 'exceeds', 'halfwords', 'photosynthesise', 'ferands', 'presenting', 'deathfearing', 'misdeed', 'yvettes', 'shatters', 'speculate', 'carnation', 'cowed', 'hailstorm', 'seductress', 'indecency', 'celiac', 'deepthought', 'interjects', 'maleficent', 'nagger', 'knower', 'gnashes', 'emotional', 'opt', 'skit', 'peahen', 'ickie', 'wordsmith']\n",
      "The main terms for the Fanfiction 54: ['wolfstars_', 'girlwithacrown', 'noisecancellingcharm', 'moonyyyy', 'cancelling', 'vibrant', 'instagram', 'guitar', 'tumblr', 'heating', 'canine', 'fourposter', 'ban', 'fluff', 'cardigan', 'oxygen', 'apart', 'bundle', 'moony', 'kudos', 'whine', 'strain', 'pad', 'velvet', 'wan', 'tune', 'fabric', 'pitch', 'music', 'record', 'player', 'werewolf', 'loud', 'disbelief', 'bare', 'hate', 'curtain', 'lung', 'remus', 'gesture', 'embarrassment', 'lupin', 'catch', 'yeah', 'silver', 'blanket', 'moon', 'energy', 'sirius', 'shit']\n",
      "The main terms for the Fanfiction 55: ['disqualifier', 'tincture', 'lept', 'camisole', 'moll', 'leucrotta', 'mooncalf', 'sandy', 'bedding', 'theseus', 'offhand', 'niffler', 'passport', 'flipping', 'hugger', 'appraisal', 'workspace', 'flooding', 'nifflers', 'triplet', 'ointment', 'whoop', 'kelpie', 'bob', 'rambling', 'bowtruckle', 'drove', 'kelpy', 'whimpering', 'makeshift', 'incredibly', 'adam', 'vile', 'vigor', 'hugging', 'employer', 'professionalism', 'contemplation', 'shiny', 'trademark', 'downwards', 'yourself', 'royal', 'ban', 'scamander', 'container', 'dedication', 'medicine', 'astonishment', 'fighter']\n",
      "The main terms for the Fanfiction 56: ['retook', 'daycare', 'dragging', 'activating', 'demonology', 'whiney', 'pinkie', 'highway', 'knowingly', 'waddle', 'viv', 'wingmirror', 'fetch', 'nannying', 'toxicology', 'alumnus', 'changed', 'beauxbaton', 'mahoutokoro', 'godparent', 'earmuff', 'accelerator', 'snuggle', 'backroom', 'programme', 'durmstrangs', 'dormmates', 'planter', 'cutie', 'melon', 'veggie', 'isle', 'pjs', 'relaxation', 'godchild', 'highchair', 'victoire', 'nanny', 'victoires', 'drying', 'amongst', 'passenger', 'diaper', 'logo', 'cliche', 'wiser', 'bunny', 'activate', 'prompt', 'ignition']\n",
      "The main terms for the Fanfiction 57: ['fam', 'squirt', 'padalecki', 'tame', 'ventimiglia', 'ringlet', 'marazzimummy', 'unpure', 'throwing', 'spoiling', 'recreation', 'birfday', 'initiate', 'reminds', 'goodnites', 'shackelbolt', 'unlit', 'ophelia', 'alastors', 'damour', 'patronizing', 'whens', 'rapunzel', 'madeyes', 'carpeting', 'divider', 'jackson', 'bledel', 'oldests', 'birdie', 'opposing', 'fourteenyearold', 'carrie', 'walbura', 'mediator', 'danu', 'kreetcers', 'blackbird', 'expect', 'hippogryphs', 'kadevra', 'wal', 'ryan', 'postpartum', 'eridnaus', 'retaliating', 'rion', 'franchise', 'weil', 'jonathan']\n",
      "The main terms for the Fanfiction 58: ['laundromat', 'whispery', 'palatino', 'imy', 'unite', 'fuuucccckk', 'annnddd', 'searing', 'breezeway', 'iwhy', 'justum', 'blurb', 'ditz', 'patterslink', 'dote', 'clerkenwell', 'mc', 'langdon', 'carotid', 'wanton', 'washer', 'gegeorge', 'etching', 'betrayed', 'ihe', 'pecs', 'elizas', 'mara', 'resisting', 'agh', 'iiii', 'fffuck', 'thatwow', 'dyer', 'ejaculation', 'warmest', 'audreys', 'mcclaverns', 'seduction', 'hots', 'hater', 'clapper', 'robertas', 'tango', 'luxuriate', 'solace', 'batbogeys', 'crooked', 'incase', 'hughs']\n",
      "The main terms for the Fanfiction 59: ['jumpin', 'counterhex', 'asile', 'mucus', 'straggle', 'retching', 'approximation', 'butbubut', 'gawping', 'trudge', 'winning', 'anemic', 'youse', 'grimauld', 'sail', 'resigns', 'hunk', 'wassmatter', 'spellfight', 'pantshitting', 'overfed', 'quay', 'charring', 'quiddich', 'prepubecent', 'mmmph', 'rearwall', 'gooey', 'oblivate', 'nockturn', 'chekov', 'ebrius', 'flectcher', 'amplifying', 'holly', 'aurora', 'mundunguss', 'southbound', 'mhm', 'befuddlement', 'anarchy', 'manufacturer', 'sisterinlaw', 'hemione', 'considerate', 'tatter', 'foursome', 'prewetts', 'figurine', 'confringo']\n",
      "The main terms for the Fanfiction 60: ['snarks', 'mooneys', 'inbetweens', 'brickwork', 'curtesy', 'nurture', 'alessia', 'networking', 'deadpans', 'restart', 'clamber', 'mooney', 'sixtyfour', 'haaaaryyyyy~', 'brownie', 'rust', 'hundredmeter', 'interweaving', 'charmer', 'timespace', 'bemoans', 'spiderdeath', 'berth', 'eden', 'highground', 'distort', 'conditioning', 'lag', 'hermioneenforced', 'suggests', 'twoforone', 'grumble', 'facepalms', 'reticent', 'capitalist', 'contemplate', 'goodauror', 'implosion', 'carrying', 'schrodinger', 'creeping', 'expressionless', 'sector', 'mandarin', 'longsuffering', 'brunet', 'teamwork', 'materialises', 'jake', 'entropy']\n"
     ]
    },
    {
     "name": "stdout",
     "output_type": "stream",
     "text": [
      "The main terms for the Fanfiction 61: ['zoe', 'fredos', 'poetic', 'zendaya', 'musky', 'rye', 'oma', 'ceramic', 'kali', 'sec', 'stepdad', 'continued', 'soundtrack', 'faffing', 'lilyrose', 'chloe', 'original', 'chuck', 'checkout', 'fivetruthchapter', 'lestrangeevans', 'gossiping', 'letas', 'downsizing', 'danny', 'noneno', 'piercings', 'thoma', 'etc', 'grandaughter', 'instead', 'leta', 'certified', 'ooowoahhhhhh', 'mushy', 'squinting', 'commencing', 'gnocchi', 'mri', 'blender', 'thomasis', 'buellers', 'depp', 'creating', 'anot', 'ft', 'nan', 'g', 'dulcet', 'dionnes']\n",
      "The main terms for the Fanfiction 62: ['allstars', 'los', 'elevenhours', 'pavilion', 'angeles', 'marley', 'marlee', 'indiscreet', 'tulle', 'diego', 'spiderman', 'studio', 'hugger', 'instagram', 'san', 'marlenes', 'twitter', 'pinpoint', 'cab', 'comic', 'parker', 'lils', 'itch', 'noticing', 'mckinnon', 'convention', 'firsthand', 'jane', 'hairstyle', 'backpack', 'ledge', 'con', 'costume', 'speaker', 'along', 'panel', 'holy', 'marlene', 'film', 'mary', 'trance', 'speculation', 'objection', 'selection', 'dagger', 'tag', 'crazy', 'america', 'spider', 'redhead']\n",
      "The main terms for the Fanfiction 63: ['pertain', 'cruciato', 'prima', 'dunce', 'dandy', 'temerity', 'aftereffect', 'duelling', 'rathore', 'arushi', 'dimwit', 'pranam', 'oye', 'maccha', 'golpatts', 'timeframe', 'cynthia', 'reporting', 'cheerfulness', 'namaste', 'donna', 'tormentor', 'qualification', 'exploit', 'management', 'hackle', 'apathy', 'hols', 'greasy', 'offence', 'prompt', 'terrifying', 'ol', 'stunning', 'pomona', 'fraud', 'lieu', 'dunderhead', 'piping', 'musing', 'tan', 'charming', 'scrape', 'widening', 'register', 'antidote', 'celebrity', 'sparkle', 'shoot', 'roast']\n",
      "The main terms for the Fanfiction 64: ['wanda', 'loki', 'whitegoldblack', 'struckers', 'sia', 'brainwashing', 'cocky', 'vader', 'coz', 'antoniv', 'sceptre', 'chitauri', 'skywalker', 'strucker', 'arnim', 'handler', 'occurs', 'tech', 'whiteblackgold', 'obsolete', 'darth', 'sabrina', 'trnaslation', 'tony', 'hadesia', 'rightio', 'sitch', 'pushcov', 'designation', 'architect', 'scepter', 'vacay', 'babyeee', 'zola', 'pietro', 'erskine', 'zealot', 'eyeout', 'onehand', 'capsicle', 'leviathan', 'obies', 'problemo', 'slinging', 'wipe', 'seepage', 'sokovia', 'semantics', 'hydra', 'glenda']\n",
      "The main terms for the Fanfiction 65: ['smartmouth', 'birdconjuring', 'alarte', 'yjames', 'youngers', 'hearhe', 'peterboy', 'puffed', 'avis', 'doy', 'gunshot', 'doyle', 'ddid', 'winickus', 'talking', 'stupidass', 'toyou', 'liberacorpus', 'ascendare', 'tilting', 'al', 'rufus', 'commentator', 'ali', 'quirinus', 'difficult', 'dew', 'pearlywhite', 'peasant', 'amycus', 'stink', 'lockharts', 'gaping', 'vehement', 'timeout', 'expulsion', 'museum', 'whomping', 'slughorns', 'rodolphus', 'firstyear', 'felix', 'pun', 'snivellus', 'carrow', 'hoop', 'intervention', 'shiny', 'l', 'vice']\n",
      "The main terms for the Fanfiction 66: ['barstool', 'unfeeling', 'rosell', 'grumman', 'lowkey', 'hughes', 'rizas', 'density', 'kay', 'maddie', 'kimblee', 'gofish', 'ishbalan', 'f.', 'tyranny', 'rockbell', 'alex', 'yuerys', 'zhao', 'distain', 'breda', 'unexpected', 'phot', 'fuhrers', 'mustangelric', 'resembool', 'alexs', 'preacher', 'vulnerable', 'aper', 'baboon', 'hohenheim', 'denny', 'marshal', 'chen', 'flaman', 'ransom', 'takeshis', 'fullmetal', 'corrupt', 'frontline', 'fuhrer', 'mindreader', 'tringham', 'darius', 'lt.', 'cens', 'wedge', 'amestrian', 'steeltrap']\n",
      "The main terms for the Fanfiction 67: ['baroque', 'ityou', 'charmsone', 'lumus', 'thighsand', 'disfigurement', 'ricbert', 'highend', 'vinewood', 'aequitastruth', 'packdidnt', 'fausta', 'sweetiepie', 'dedicate', 'yearwas', 'runcorns', 'backstreets', 'zeroed', 'rightsizing', 'davisthe', 'scarrs', 'tutorship', 'pathit', 'informationone', 'cormacs', 'countercharms', 'rigidity', 'lestrangethe', 'spiny', 'restock', 'alix', 'tallow', 'mervyn', 'splendorous', 'required', 'disastrous', 'pawnbroker', 'affiliation', 'wardsnothing', 'homenum', 'periodical', 'wholl', 'halllike', 'subdepartment', 'deepset', 'cyril', 'callouses', 'silently', 'owing', 'underlining']\n",
      "The main terms for the Fanfiction 68: ['disintegration', 'brawny', 'memoriam', 'constituent', 'vibrancy', 'verdant', 'halfplead', 'manse', 'fuller', 'rigel', 'toothick', 'scotlanda', 'riding', 'insular', 'secondseat', 'wrongdoing', 'worldclass', 'spelllight', 'splintering', 'birthing', 'philippa', 'fracturing', 'wallowing', 'duststorm', 'mayor', 'aurelius', 'cindora', 'gridelwald', 'oasis', 'loch', 'operative', 'frightening', 'urging', 'groove', 'windswept', 'fugitive', 'hermia', 'halftruths', 'iridescent', 'jade', 'hind', 'conflagration', 'betrayer', 'soon', 'swiftness', 'admonishment', 'masonry', 'volley', 'moonlit', 'neutrality']\n",
      "The main terms for the Fanfiction 69: ['exclaimed', 'arauders', 'updating', 'creek', 'emmiline', 'preist', 'mickinnons', 'hologram', 'brancaster', 'headquaters', 'pronounce', 'ev', 'ceromany', 'kinglsey', 'xx', 'dorcas', 'thx', 'seagull', 'softly', 'pls', 'sherlock', 'exgirlfriend', 'aye', 'lils', 'vance', 'bouquet', 'aww', 'pregnant', 'flu', 'pete', 'drape', 'madeye', 'their', 'auburn', 'honeymoon', 'grumpy', 'honour', 'fleamont', 'b', 'euphemia', 'clipboard', 'hairline', 'tourist', 'yup', 'church', 'lurch', 'restless', 'maid', 'slowly', 'magazine']\n",
      "The main terms for the Fanfiction 70: ['obliviaters', 'tuney', 'kindy', 'mumma', 'kindergarten', 'nym', 'dolphin', 'icing', 'padfoots', 'listener', 'fort', 'born', 'squad', 'tutor', 'singing', 'dudleys', 'napkin', 'hazel', 'fridge', 'padfoot', 'moony', 'animagus', 'statute', 'fairy', 'cedric', 'thatll', 'dudley', 'secrecy', 'luna', 'liar', 'later', 'relative', 'playing', 'petunia', 'tune', 'season', 'november', 'writing', 'die', 'potato', 'education', 'music', 'cake', 'weasleys', 'loud', 'sake', 'itll', 'remus', 'lily', 'play']\n",
      "The main terms for the Fanfiction 71: ['factand', 'nooo', 'tattletale', 'turnabout', 'meits', 'fibbing', 'greengrassmalfoy', 'preschool', 'scummy', 'donut', 'perform', 'petulant', 'aurorno', 'corys', 'deluge', 'friendand', 'archenemy', 'andromedawhichever', 'buzzer', 'kristophs', 'airand', 'everythingthe', 'harrypottersaid', 'spankingsone', 'matterone', 'littleum', 'poplar', 'artsthe', 'yummy', 'complacent', 'childhad', 'giraffe', 'hairsat', 'snsnape', 'perfectionist', 'accidentmy', 'kidstogether', 'kiddie', 'funat', 'ginnyand', 'shouldersas', 'eyeseyes', 'mellencamp', 'pantomime', 'frankie', 'scumbag', 'larsons', 'sidewinder', 'toosocks', 'evanspotter']\n",
      "The main terms for the Fanfiction 72: ['aparation', 'ci', 'lakota', 'protago', 'gpa', 'leog', 'pricker', 'claire', 'dougals', 'traumatic', 'afterall', 'safee', 'wasicu', 'quibler', 'aria', 'mckenzie', 'stupify', 'tps', 'dougal', 'bonnie', 'youtu', 'akicitas', 'wend', 'colum', 'alaster', 'tinker', 'inaccuracy', 'redcoat', 'afterwords', 'journalism', 'hunkpapa', 'akicita', 'windalin', 'sotry', 'gary', 'leoch', 'firepit', 'lastranges', 'enapay', 'letitia', 'seans', 'lassie', 'inipi', 'linda', 'dictation', 'wi', 'dirk', 'sprawling', 'ach', 'willy']\n",
      "The main terms for the Fanfiction 73: ['sicklysweet', 'perambulator', 'passer', 'gene', 'rusting', 'whinging', 'sewing', 'magician', 'ok.', 'blister', 'handmedowns', 'circus', 'secondhand', 'bike', 'shining', 'hoped', 'immense', 'surrey', 'neighbourhood', 'pregnancy', 'working', 'chubby', 'dursley', 'little', 'dudleys', 'doorstep', 'grave', 'orphan', 'nephew', 'upset', 'jumper', 'stuck', 'praise', 'vernon', 'spite', 'glory', 'brand', 'dudley', 'sock', 'bravery', 'skirt', 'grace', 'regard', 'uniform', 'ribbon', 'le', 'petunia', 'cruel', 'combination', 'platform']\n",
      "The main terms for the Fanfiction 74: ['forestgreenlaceappliqustullefloorlengthpromdressfeaturingoneshoulderbodicewithbowaccentbelt', 'reginald', 'maturityrating', 'worthiness', 'malfoysneer', 'miniskirt', 'businesslook', 'purebloodfanatism', 'tightens', 'daydreaming', 'craziest', 'dumbfounded', 'resurface', 'lowlight', 'luulla', 'frosty', 'earincident', 'noncon', 'accepts', 'spectrespecs', 'lowe', 'absurd', 'hooker', 'asshat', 'luciusmalfoyprobablyisanabusiveassholeincident', 'handsy', 'narcissist', 'klutz', 'manages', 'roam', 'witchhunts', 'seethes', 'dancefloor', 'interlude', 'plead', 'heartthrob', 'tux', 'zero', 'contender', 'nye', 'sans', 'typing', 'phobia', 'longue', 'considerate', 'utmost', 'chaise', 'forte', 'metallic', 'wrackspurts']\n",
      "The main terms for the Fanfiction 75: ['intermission', 'ungryffindor', 'moffat', 'overkill', 'greeter', 'marticide', 'showbar', 'toothache', 'humanoid', '+', 'pushed', 'entomologist', 'pater', 'pillowtop', 'maxwell', 'grimoire', 'fresco', 'lessers', 'blustering', 'thimble', 'magica', 'coiffed', 'determines', 'eggnog', 'ongoing', 'dallies', 'chattiness', 'willowy', 'gracious', 'quartz', 'germanic', 'practicals', 'onthespot', 'stickiness', 'allpurpose', 'gigglejuices', 'availability', 'soloist', 'pillbox', 'scrimgeour', 'invoice', 'altogether', 'calderon', 'bream', 'huffy', 'sushi', 'alarmed', 'tapa', 'bong', 'briefcase']\n",
      "The main terms for the Fanfiction 76: ['resound', 'bleary', 'threatens', 'circumference', 'grovelling', 'elite', 'rota', 'wielding', 'timmons', 'reforming', 'cringes', 'hothead', 'composes', 'roderfield', 'dreary', 'isabel', 'bawdy', 'flamingo', 'smarter', 'statuesque', 'buscort', 'novis', 'muffle', 'intertwining', 'finery', 'gangly', 'bluffing', 'dependency', 'corvette', 'tangling', 'immutatio', 'proudfoots', 'drunkard', 'witherhall', 'neighbouring', 'figurehead', 'headpiece', 'fenston', 'merciful', 'thia', 'croons', 'cog', 'splendour', 'cyrus', 'hindrance', 'motioning', 'sprawl', 'hangman', 'manoeuvre', 'cynthia']\n",
      "The main terms for the Fanfiction 77: ['complaining', 'oooooh', 'italic', 'immature', 'onlooker', '~', 'oliver', 'myself', 'sarcasm', 'tactic', 'cmon', 'volume', 'fan', 'nonsense', 'percy', 'armchair', 'responsibility', 'treatment', 'pitch', 'challenge', 'detention', 'gryffindors', 'statement', 'groan', 'chuckle', 'doubt', 'darkness', 'argument', 'match', 'waist', 'sentence', 'reply', 'theyd', 'fault', 'merlin', 'response', 'deal', 'quidditch', 'smirk', 'kiss', 'fine', 'surprise', 'wasnt', 'chair', 'case', 'ive', 'bed', 'blood', 'wall', 'care']\n",
      "The main terms for the Fanfiction 78: ['decorate', 'inventiveness', 'hangin', 'aeternam', 'headstart', 'accios', 'wrackspurt', 'sodding', 'protectiveness', 'outdoorsman', 'ceasefire', 'scoffing', 'marked', 'florist', 'bloodorange', 'loveless', 'drake', 'surfer', 'armistice', 'victorian', 'parentless', 'selfthreading', 'antagonism', 'cosmopolitan', 'flipendo', 'disconcertion', 'matias', 'cuter', 'laters', 'preening', 'doze', 'dray', 'weas', 'underarms', 'sneaking', 'glop', 'coloured', 'accusing', 'mediwizards', 'bestfriend', 'cherie', 'ancestral', 'lewdness', 'moondew', 'eaterwhore', 'stroller', 'crois', 'nib', 'noseless', 'frontage']\n",
      "The main terms for the Fanfiction 79: ['dotty', 'sweetgrass', 'courageous', 'songbird', 'jigsaw', 'engineering', 'bergamot', 'pakistan', 'digestif', 'flirtation', 'shrine', 'includes', 'hozier', 'downupup', 'unlatch', 'sybills', 'vise', 'topsy', 'snowdrop', 'martine', 'depressurizing', 'brevity', 'dobbyhad', 'thickening', 'doubledoors', 'dwindling', 'sleight', 'gooseberry', 'telland', 'bertalmann', 'coda', 'lumineers', 'honorific', 'wartime', 'carrara', 'nataly', 'kelp', 'grecoroman', 'secretly', 'toandfro', 'chesterfield', 'headiness', 'merperson', 'suspenseful', 'robust', 'rippling', 'arched', 'wolfgang', 'defodio', 'cipher']\n",
      "The main terms for the Fanfiction 80: ['pigsty', 'suddenly', 'written', 'touma', 'errol', 'noheat', 'hasselberry', 'lasso', 'yukiaoi', 'bookits', 'tearsvery', 'disappearah', 'lop', 'escapators', 'akira', 'malik', 'glistering', 'zane', 'wanderer', 'wayhouse', 'jim', 'syrus', 'franticshes', 'plunderer', 'hiccoughing', 'reportsaid', 'spellbooks', 'jesses', 'chazz', 'shifter', 'ann', 'yugi', 'jadens', 'ironing', 'jaden', 'meddlesome', 'forgetmenot', 'booklist', 'nevilleyou', 'lockheart', 'potterkurusu', 'yashiro', 'kaiba', 'yugioh', 'travelworn', 'joey', 'flowerpot', 'gx', 'delightedand', 'fidget']\n",
      "The main terms for the Fanfiction 81: ['avalon', 'halfskipping', 'pegasus', 'stoke', 'darn', 'strapping', 'malcontent', 'unwilling', 'resourceful', 'boasting', 'isa', 'pavartis', 'jogged', 'pestle', 'stalling', 'crawlies', 'whoo', 'oohh', 'acrobatics', 'isabella', 'bicorn', 'pepperup', 'goodluck', 'thyme', 'sinus', 'constitutes', 'crevasse', 'counterclockwise', 'allll', 'unforgivable', 'leotard', 'bellllaaaa', 'popper', 'charliehmm', 'sleepiness', 'lucious', 'driedup', 'abusive', 'converge', 'charliebut', 'cantis', 'razorsharp', 'unpack', 'rigged', 'sham', 'vipertooth', 'serpensortia', 'eternal', 'der', 'confundus']\n",
      "The main terms for the Fanfiction 82: ['houra', 'allhe', 'egress', 'bloodcurdling', 'suchlike', 'shadowed', 'inshe', 'uncertain', 'shattering', 'readiness', 'exhilarating', 'fibre', 'undoing', 'weariness', 'smashing', 'pretence', 'stretcher', 'shifting', 'lightness', 'counsel', 'volition', 'lullaby', 'dangling', 'stillness', 'daytime', 'incredulity', 'fleeting', 'tickle', 'forgive', 'severuss', 'limply', 'intake', 'loathing', 'confidant', 'accomplishment', 'gait', 'selfloathing', 'matron', 'shivering', 'capability', 'bony', 'contest', 'sorrow', 'cellar', 'charade', 'damp', 'tingling', 'sunrise', 'presume', 'thrill']\n",
      "The main terms for the Fanfiction 83: ['gig', 'obituary', 'beverlys', 'midtransfer', 'oculus', 'confirmed', 'handline', 'recite', 'christophes', 'candidacy', 'teasedout', 'motivum', 'youknowthefuckwho', 'temp', 'armory', 'telecommunication', 'projectile', 'builtins', 'clustering', 'fortythree', 'laura', 'partiallyrent', 'droppings', 'crossdressing', 'rozen', 'streetlamp', 'compact', 'align', 'stapler', 'bloodlust', 'incapacitate', 'deformed', 'masse', 'saccharin', 'fusion', 'phalanx', 'embedment', 'scheduled', 'bypassing', 'washrag', 'dissipation', 'heston', 'spanning', 'nin', 'thompson', 'participates', 'selfdiscovery', 'whitechapel', 'killarney', 'replication']\n",
      "The main terms for the Fanfiction 84: ['yearsold', 'arg', 'pheonix', 'oot', 'secretkeeper', 'orderwide', 'decoy', 'answ', 'wilkins', 'bestman', 'semi', 'bloodrelatives', 'greatgranddaughter', 'hitlist', 'consecutives', 'laylas', 'geraldine', 'doublebarrel', 'gaz', 'imighthavemetsomeone', 'padf', 'layla', 'goddammit', 'whale', 'prongslet', 'dosage', 'spoiler', 'grownup', 'rubeus', 'rifle', 'gee', 'pandemonium', 'julia', 'erised', 'why', 'twentyone', 'slut', 'maria', 'nostalgia', 'nee', 'wormtails', 'behold', 'occlumens', 'sewer', 'traveller', 'crude', 'clone', 'rebound', 'harold', 'handmedowns']\n",
      "The main terms for the Fanfiction 85: ['engulf', 'jogging', 'irving', 'wai', 'than', 'rucksack', 'n.', 'yyeah', 'husky', 'shirtless', 'bu', 'c', 'lewd', 'bustling', 'sighing', 'playfulness', 'stroll', 'grassy', 'stern', 'rambling', 'flirt', 'broody', 'h', 'greasy', 'jus', 'yall', 'estimate', 'tutoring', 'uhm', 'closeness', 'meadow', 'l', 'backpack', 'cafeteria', 'percentage', 'lash', 'y', 'n', 'butt', 'duration', 'daft', 'tutor', 'aroma', 'scenery', 'ate', 'trance', 'e', 'asshole', 'salty', 'fantasy']\n",
      "The main terms for the Fanfiction 86: ['traditionalism', 'sufficient', 'cyclops', 'euan', 'tithe', 'jonquil', 'cobble', 'livestock', 'jnf', 'consists', 'brushing', 'interestin', 'melodrama', 'hooper', 'climbing', 'hitter', 'andys', 'eleanora', 'nolly', 'pdf', 'annabelles', 'forsake', 'relashio', 'irenes', 'whizzbang', 'dower', 'comer', 'gloria', 'assign', 'urezvbar', 'progressive', 'angharad', 'resonance', 'mostly', 'blackmailer', 'duri', 'personll', 'eta', 'antimurder', 'keyed', 'supervising', 'miggs', 'antigone', 'saner', 'veras', 'stumbling', 'fissure', 'yearolds', 'skim', 'valiant']\n",
      "The main terms for the Fanfiction 87: ['imitator', 'qingyuan', 'binghe', 'charisma', 'ruohans', 'qingqiu', 'ahen', 'ruohan', 'binghes', 'jin', 'shen', 'wen', 'intruding', 'yue', 'discreet', 'twentyeight', 'fireball', 'medicine', 'resurrection', 'purity', 'mudbloods', 'madman', 'patient', 'fortune', 'stiffly', 'reasoning', 'madness', 'doctor', 'graduation', 'ancestor', 'approval', 'project', 'muggleborns', 'follower', 'halfblood', 'phoenix', 'courage', 'boyfriend', 'minister', 'frustration', 'hesitation', 'pure', 'proud', 'fool', 'pureblood', 'suspicion', 'practice', 'malfoys', 'threat', 'color']\n",
      "The main terms for the Fanfiction 88: ['victorianera', 'severuses', 'painless', 'korner', 'tthey', 'dunghill', 'pparents', 'koobys', 'foreseen', 'derelict', 'trancelike', 'hadriana', 'presumption', 'kooby', 'morph', 'beachgoers', 'balanced', 'mudbloodaccepting', 'kilometre', 'sturgis', 'bubblegumpink', 'marrying', 'severuprofessor', 'buyer', 'digress', 'purer', 'fervour', 'putrid', 'usefulness', 'podmore', 'thumbsup', 'salary', 'houseelfs', 'console', 'twelfth', 'disinfectant', 'sseverus', 'bluff', 'jokester', 'gloomy', 'profession', 'reminiscing', 'courtroom', 'paramount', 'raspy', 'totalus', 'whining', 'wordless', 'syllabus', 'circulation']\n",
      "The main terms for the Fanfiction 89: ['whitman', 'stars~', 'grimmuald', 'inhuman', 'walt', 'hermerlin', 'suddenness', 'jealously', 'dibby', 'elevenyearolds', 'burgess', 'cissas', 'clapping', 'solo', 'composer', 'congregation', 'passerby', 'scorn', 'priceless', 'reggie', 'parlour', 'ticking', 'signet', 'dromeda', 'monkey', 'reg', 'vas', 'inscription', 'diner', 'cissy', 'tirade', 'arcturus', 'toujours', 'druella', 'pur', 'nobility', 'banister', 'inquiry', 'siri', 'onlooker', 'orion', 'cygnus', 'superiority', 'anthony', 'hesitant', 'younger', 'haircut', 'joking', 'scandal', 'liking']\n",
      "The main terms for the Fanfiction 90: ['shushes', 'unleashes', 'k+era', 'roadway', 'depends', 'bass', 'gratification', 'skelegro', 'super', 'notch', 'penmanship', 'limply', 'aww', 'prompt', 'asks', 'busy', 'audacity', '~', 'settle', 'fringe', 'flutter', 'ego', 'menu', 'lone', 'ooh', 'assure', 'mock', 'sport', 'slughorn', 'innocence', 'simple', 'yep', 'restaurant', 'nope', 'el', 'accusation', 'dryly', 'strange', 'smart', 'snitch', 'invitation', 'am', 'peter', 'progress', 'essay', 'mercy', 'th', 'compliment', 'evans', 'say']\n",
      "The main terms for the Fanfiction 91: ['modifier', 'ithink', 'eyesand', 'wandand', 'somam', 'riemann', 'restthe', 'owlthe', 'umprofessor', 'aquila', 'shorthand', 'linan', 'softy', 'magicpulls', 'mercury', 'aroundbut', 'conservativesomehow', 'laborand', 'pledge', 'statusthat', '__', 'handprint', 'thisshall', 'ingrid', 'justits', 'secondfloor', 'clevernessyou', 'isomething', 'spouthole', 'signup', 'flack', 'lacademie', 'verbena', 'umnot', 'magiclike', 'aux', 'percentile', 'hafinand', 'ffrank', 'justthey', 'doris', 'peoplepeople', 'anymorebutmaybe', 'lapin', 'trod', 'whosa', 'confiance', 'iran', 'hydrogen', 'debateso']\n",
      "The main terms for the Fanfiction 92: ['occurance', 'lukewarm', 'clattering', 'touching', 'pouring', 'snogging', 'jamie', 'kaleidoscope', 'jamies', 'intermingling', 'identify', 'sleepover', 'foggy', 'grim', 'awhile', 'poisoning', 'faucet', 'wireless', 'warmer', 'soften', 'tutoring', 'intake', 'droplet', 'humming', 'tile', 'peek', 'whirlwind', 'locker', 'melody', 'observation', 'fringe', 'reflex', 'prone', 'tub', 'arrogance', 'roommate', 'mary', 'echoed', 'brewing', 'shampoo', 'hazel', 'tighten', 'braid', 'soap', 'headline', 'bout', 'necessity', 'pajama', 'fantasy', 'click']\n",
      "The main terms for the Fanfiction 93: ['vintage', 'ballroom', '~', 'reunion', 'decoration', 'wine', 'boyfriend', 'sheet', 'eater', 'men', 'move', 'war', 'harry', 'he', 'home', 'help', 'person', 'death', 'someone', 'year', 'im']\n",
      "The main terms for the Fanfiction 94: ['archie', 'inquest', 'inconsiderate', 'organising', 'reglus', 'pogo', 'scratchedout', 'yoghurt', 'sparrow', 'regluss', 'proportionate', 'contrition', 'shielding', 'platitude', 'deficient', 'disturb', 'cornflakes', 'prevention', 'morgue', 'reluctant', 'blot', 'mortifying', 'insistent', 'pauper', 'contender', 'jarring', 'refreshment', 'julia', 'snail', 'acting', 'ado', 'pastel', 'volley', 'crossword', 'autopilot', 'upcoming', 'puddlemere', 'mash', 'banger', 'pose', 'wireless', 'reg', 'progression', 'arcturus', 'kidney', 'thrashing', 'calmer', 'stuffed', 'willpower', 'meadow']\n"
     ]
    },
    {
     "name": "stdout",
     "output_type": "stream",
     "text": [
      "The main terms for the Fanfiction 95: ['seein', 'henish', 'thea', 'yalls', 'timealso', 'xxxxx', 'joked', 'greene', 'thoughtokie', 'monotonous', 'yalloh', 'moldyshorts', 'cubby', 'comadream', 'yee', 'schooler', 'reeked', 'meme', 'ahhhh', 'mraz', 'cringey', 'slifai', 'budum', 'momento', 'dissentrium', 'snd', 'theodosia', 'ummmm', 'vyr', 'overthinky', 'celsius', 'dayglowbest', 'uwus', 'starbursts', 'fanfics', 'mac', 'fox', 'brainpower', 'protagonist', 'universal', 'byeeetake', 'lakehouse', 'maestro', 'spintwitches', 'waiver', 'brutally', 'warsaw', 'joyful', 'rapist', 'riveting']\n",
      "The main terms for the Fanfiction 96: ['ramc', 'zaitzevs', 'surreal', 'soothers', 'gilt', 'holmes', 'mugglebuilt', 'smallwood', 'gunpowder', 'cancel', 'hawkes', 'legwork', 'edwin', 'adage', 'syndrome', 'vignette', 'quandary', 'whooohoot', 'horseshit', 'antheas', 'chauffeur', 'tailoring', 'despatch', 'adler', 'talbot', 'iceman', 'plummeting', 'deduces', 'ilvermony', 'dan', 'zaitzev', 'polyester', 'flatshare', 'matrimony', 'hoohoot', 'brolly', 'antagonist', 'exmuggle', 'wayward', 'eton', 'sherry', 'niche', 'colouration', 'mouldywarts', 'whooo', 'economic', 'whoot', 'exsoldier', 'nonmagical', 'mycrofts']\n",
      "The main terms for the Fanfiction 97: ['gorgeouss', 'portraitpainter', 'songleaper', 'elspeth', 'soothe', 'heartsick', 'theirone', 'karma', 'helplessly', 'canard', 'krait', 'sara', 'whicker', 'angelica', 'mongoose', 'archivist', 'gazelle', 'mmean', 'stunned', 'goldens', 'medwyn', 'hebe', 'philberta', 'vivisection', 'thishow', 'julian', 'wychards', 'wychard', 'laurel', 'thendont', 'bryony', 'colton', 'cooked', 'artificial', 'curtis', 'tar', 'hecate', 'sung', 'hedgehog', 'swallowed', 'gorgeous', 'curling', 'swipe', 'monitor', 'weeping', 'free', 'complexity', 'jasmine', 'drew', 'hare']\n",
      "The main terms for the Fanfiction 98: ['paracetamol', 'sideeffe', 'ysee', 'sop', 'fuckwhy', 'differentor', 'monthshe', 'bside', 'mugglesi', 'smythe', 'janie', 'perce', 'camden', 'oxfordthat', 'tout', 'kentish', 'againis', 'spectre', 'theyfenriris', 'undergrad', 'turf', 'disco', 'ugo', 'erits', 'balti', 'dontlisten', 'brixton', 'trackera', 'workno', 'papad', 'orbit', 'lifethey', 'gargoylemcgonagall', 'dphil', 'hadleigh', 'byis', 'shabnams', 'remusremus', 'roti', 'vesta', 'akhtar', 'ucl', 'blackhis', 'thesis', 'knowif', 'naan', 'putter', 'yearsand', 'camaraderie', 'selfdeprecating']\n",
      "The main terms for the Fanfiction 99: ['toot', 'heartwrenching', 'trite', 'wolfboy', 'bashful', 'opts', 'blurts', 'innit', 'airpods', 'amble', 'adonisno', 'catching', '~hour', 'voiceflashes', 'babygrow', 'emoji', 'chiron', 'squeezing', 'quid', 'socialization', 'carro', 'godforsaken', 'medley', 'barista', 'moisturizers', 'dionysus', 'brusk', 'poofter', 'haz', 'remuserm', 'imagery', 'rab', 'withm', 'patroclus', 'cluck', 'sequitur', 'dumdum', 'spidermans', 'swansea', 'miller', 'aviator', 'endearedonce', 'madeline', 'boardman', 'reread', 'leagueremus', 'matchmaking', 'themone', 'jawed', 'exboyfriend']\n",
      "The main terms for the Fanfiction 100: ['poky', 'askew', 'furball', 'exuberance', 'monolithic', 'snowing', 'abdication', 'teteatete', 'cubbyhole', 'comatose', 'diplomat', 'apparel', 'astorias', 'seve', 'catastrophic', 'hark', 'indecorum', 'untrusting', 'colonial', 'dogma', 'floos', 'tempting', 'infirm', 'groundwork', 'weaselbee', 'insolent', 'chum', 'clincher', 'earthshattering', 'degeneracy', 'valet', 'attach', 'gareth', 'inebriation', 'debauchery', 'goodhumour', 'dissapoint', 'peephole', 'stifle', 'reliance', 'breakneck', 'altruism', 'expose', 'anodyne', 'bender', 'hedged', 'witlessness', 'wakefulness', 'inelegancy', 'pedestrian']\n"
     ]
    }
   ],
   "source": [
    "nr_tokens_ref = all_tokens.N()\n",
    "\n",
    "for id, tokens_freq in dictonary.items():\n",
    "    nr_tokens_documents = tokens_freq.N()\n",
    "    c = float(nr_tokens_ref) / float(nr_tokens_documents)\n",
    "    word_rel_freq = {lemma: math.log(c * tokens_freq.get(lemma) / all_tokens.get(lemma,1)) for lemma in tokens_freq}\n",
    "    word_rel_freq = sorted(word_rel_freq.items(), key=lambda x: x[1], reverse=True)\n",
    "    result_list = []\n",
    "    for key, value in word_rel_freq[0:50]:\n",
    "        result_list.append(key)\n",
    "    print(\"The main terms for the Fanfiction {}: {}\".format(id, result_list))"
   ]
  },
  {
   "cell_type": "code",
   "execution_count": null,
   "metadata": {},
   "outputs": [],
   "source": []
  }
 ],
 "metadata": {
  "kernelspec": {
   "display_name": "Python 3",
   "language": "python",
   "name": "python3"
  },
  "language_info": {
   "codemirror_mode": {
    "name": "ipython",
    "version": 3
   },
   "file_extension": ".py",
   "mimetype": "text/x-python",
   "name": "python",
   "nbconvert_exporter": "python",
   "pygments_lexer": "ipython3",
   "version": "3.8.3"
  }
 },
 "nbformat": 4,
 "nbformat_minor": 4
}
